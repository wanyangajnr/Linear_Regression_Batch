{
 "cells": [
  {
   "cell_type": "code",
   "execution_count": 1,
   "metadata": {},
   "outputs": [],
   "source": [
    "#Dependencies\n",
    "import numpy as np\n",
    "from csv import reader\n",
    "import random"
   ]
  },
  {
   "cell_type": "code",
   "execution_count": 2,
   "metadata": {},
   "outputs": [],
   "source": [
    "#The csv upload function\n",
    "def csvLoad(filename):\n",
    "    dataset = []\n",
    "    with open(filename, 'r') as file:\n",
    "        csvReader = reader(file, delimiter = ',')\n",
    "        for row in csvReader:\n",
    "            if not row:\n",
    "                continue\n",
    "            dataset.append(row)\n",
    "        del dataset[0]\n",
    "        for row in dataset:\n",
    "            del row[4]\n",
    "    return dataset"
   ]
  },
  {
   "cell_type": "code",
   "execution_count": 3,
   "metadata": {},
   "outputs": [],
   "source": [
    "filename = \"/Users/pw/Desktop/Machine Learning/mlwork/iris.csv\"\n",
    "dataset = csvLoad(filename)"
   ]
  },
  {
   "cell_type": "code",
   "execution_count": 4,
   "metadata": {},
   "outputs": [],
   "source": [
    "#Change the values from string to float\n",
    "def stringToFLoat(dataset):\n",
    "    for column in range(len(dataset[0])):\n",
    "        for row in dataset:\n",
    "            row[column] = float(row[column].strip())\n",
    "    return dataset\n",
    "    "
   ]
  },
  {
   "cell_type": "code",
   "execution_count": 5,
   "metadata": {},
   "outputs": [],
   "source": [
    "mydata = stringToFLoat(dataset)"
   ]
  },
  {
   "cell_type": "code",
   "execution_count": 6,
   "metadata": {},
   "outputs": [],
   "source": [
    "random.seed(41)\n",
    "random.shuffle(mydata)"
   ]
  },
  {
   "cell_type": "code",
   "execution_count": 7,
   "metadata": {},
   "outputs": [],
   "source": [
    "#Convert the data from a list into an array\n",
    "data = mydata.copy()"
   ]
  },
  {
   "cell_type": "code",
   "execution_count": 8,
   "metadata": {},
   "outputs": [],
   "source": [
    "newData = np.array(data)"
   ]
  },
  {
   "cell_type": "code",
   "execution_count": 23,
   "metadata": {},
   "outputs": [],
   "source": [
    "X = newData[:,0]"
   ]
  },
  {
   "cell_type": "code",
   "execution_count": 24,
   "metadata": {},
   "outputs": [],
   "source": [
    "#the gaussian RBF function\n",
    "def rbf(x,c,s):\n",
    "    return np.exp(-1/2**s * (x-c)**2)"
   ]
  },
  {
   "cell_type": "code",
   "execution_count": 17,
   "metadata": {},
   "outputs": [],
   "source": [
    "def kMeans(X, k, tol):\n",
    "    \n",
    "    centroids = X[np.random.randint(X.shape[0], size = k)]\n",
    "    prevCentroids = centroids.copy()\n",
    "    stds = np.zeros(k)\n",
    "    \n",
    "    Converged = False\n",
    "    \n",
    "    while not Converged:\n",
    "        \n",
    "        distances = np.squeeze(np.abs(X[:,np.newaxis]-centroids[np.newaxis, :]))\n",
    "        \n",
    "        closestCluster = np.argmin(distances, axis = 1)\n",
    "        \n",
    "        \n",
    "        for i in range(k):\n",
    "            clusterPoints = X[closestCluster == i]\n",
    "            \n",
    "            if len(clusterPoints) > 1:\n",
    "                centroids[i] = np.mean(clusterPoints, axis = 0)\n",
    "                \n",
    "                \n",
    "        Converged = np.linalg.norm(centroids - prevCentroids) < tol\n",
    "        prevCentroids = centroids.copy()\n",
    "        \n",
    "    \n",
    "    clustersNoPoints = []\n",
    "    \n",
    "    for i in range(k):\n",
    "        clusterPoints = X[closestCluster == i]\n",
    "        if len(clusterPoints) < 2:\n",
    "            clustersNoPoint.append(i)\n",
    "            continue\n",
    "        else:\n",
    "            stds[i] = np.std(X[closestCluster == i])\n",
    "    \n",
    "    \n",
    "    if len(clustersNoPoints) > 0:\n",
    "        pointsToAverage = []\n",
    "        \n",
    "        if i in clustersNoPoints:\n",
    "            pointsToAverage.append(X[closestCluster == i])\n",
    "        \n",
    "        pointsToAverage = np.concatenate(pointsToAverage).ravel()\n",
    "        stds[clustersNoPoints] = np.mean(np.std(pointsToAverage))\n",
    "        \n",
    "    \n",
    "    return centroids, stds      \n",
    "        "
   ]
  },
  {
   "cell_type": "code",
   "execution_count": 25,
   "metadata": {},
   "outputs": [],
   "source": [
    "c,s = kMeans(X,3,0.00001)"
   ]
  },
  {
   "cell_type": "code",
   "execution_count": 28,
   "metadata": {},
   "outputs": [
    {
     "name": "stdout",
     "output_type": "stream",
     "text": [
      "[5.76981132 6.7745098  4.89565217]\n"
     ]
    }
   ],
   "source": [
    "print(c)"
   ]
  },
  {
   "cell_type": "code",
   "execution_count": null,
   "metadata": {},
   "outputs": [],
   "source": []
  }
 ],
 "metadata": {
  "kernelspec": {
   "display_name": "Python 3",
   "language": "python",
   "name": "python3"
  },
  "language_info": {
   "codemirror_mode": {
    "name": "ipython",
    "version": 3
   },
   "file_extension": ".py",
   "mimetype": "text/x-python",
   "name": "python",
   "nbconvert_exporter": "python",
   "pygments_lexer": "ipython3",
   "version": "3.7.4"
  }
 },
 "nbformat": 4,
 "nbformat_minor": 2
}
