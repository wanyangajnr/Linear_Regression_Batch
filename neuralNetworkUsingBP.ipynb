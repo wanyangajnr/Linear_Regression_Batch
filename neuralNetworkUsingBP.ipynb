{
 "cells": [
  {
   "cell_type": "code",
   "execution_count": 1,
   "metadata": {},
   "outputs": [],
   "source": [
    "#the dependecies\n",
    "import numpy as np\n",
    "from csv import reader\n",
    "import random"
   ]
  },
  {
   "cell_type": "code",
   "execution_count": 2,
   "metadata": {},
   "outputs": [],
   "source": [
    "#the csv upload function\n",
    "def csvUpload(filename):\n",
    "    dataset = []\n",
    "    with open(filename, \"r\") as file:\n",
    "        reader = reader(file, delimiter = ',')\n",
    "        for row in reader:\n",
    "            if not row:\n",
    "                continue\n",
    "            dataset.append(row)\n",
    "    return dataset"
   ]
  },
  {
   "cell_type": "code",
   "execution_count": 3,
   "metadata": {},
   "outputs": [],
   "source": [
    "#Convert string to float\n",
    "def stringToFloat(dataset):\n",
    "    for column in range(len(dataset[0])):\n",
    "        for row in column:\n",
    "            row[column] = float(row[column].strip())\n",
    "    return dataset"
   ]
  },
  {
   "cell_type": "code",
   "execution_count": 4,
   "metadata": {},
   "outputs": [],
   "source": [
    "#Convert String to integer\n",
    "def strColToInt(dataset, column):\n",
    "    classValues = [row[column] for row in dataset]\n",
    "    unique = set(classValues)\n",
    "    lookup = dict()\n",
    "    \n",
    "    for i, value in enumerate(unique):\n",
    "        lookup[value] = i\n",
    "    for row in dataset:\n",
    "        row[column] = lookup[row[column]]\n",
    "    return lookup"
   ]
  },
  {
   "cell_type": "code",
   "execution_count": 5,
   "metadata": {},
   "outputs": [],
   "source": [
    "#find the minimax value for each column\n",
    "def minMaxVal(dataset):\n",
    "    minMaxVal = []\n",
    "    for column in range(len(dataset[0])):\n",
    "        colVals = [row[column] for row in dataset]\n",
    "        maX = max(colVals)\n",
    "        miN = min(colVals)\n",
    "        minMaxVal.append([maX,miN])\n",
    "    return minMaxVal"
   ]
  },
  {
   "cell_type": "code",
   "execution_count": 6,
   "metadata": {},
   "outputs": [],
   "source": [
    "#The rescaling or normalization function\n",
    "def normalization(dataset, minMax):\n",
    "    \n",
    "    for row in dataset:\n",
    "        for i in range(len(row)-1):\n",
    "            row[i] = (row[i] - minMax[i][0]) / (minMax[i][1]-minMax[i][0])"
   ]
  },
  {
   "cell_type": "code",
   "execution_count": 7,
   "metadata": {},
   "outputs": [],
   "source": [
    "#Splitting the data into k-folds\n",
    "def crossValidationSplit(dataset, k):\n",
    "    folds = []\n",
    "    datasetCopy = copy(dataset)\n",
    "    foldSize = int(len(datasetCopy / k))\n",
    "    \n",
    "    for i in range(foldSize):\n",
    "        fold = []\n",
    "        \n",
    "        while len(folds) < foldsize:\n",
    "            index = random.randrange(len(datasetCopy))\n",
    "            fold.append(datasetCopy.pop(index))\n",
    "        folds.append(fold)\n",
    "    return folds"
   ]
  },
  {
   "cell_type": "code",
   "execution_count": 8,
   "metadata": {},
   "outputs": [],
   "source": [
    "#The accuracy function\n",
    "def accuracyMetric(actual,predicted):\n",
    "    correct = 0\n",
    "    for i in range(len(actual)):\n",
    "        if actual[i] == predicted[i]:\n",
    "            correct += 1\n",
    "    return correct/ float(len(actual))*100"
   ]
  },
  {
   "cell_type": "code",
   "execution_count": 9,
   "metadata": {},
   "outputs": [],
   "source": [
    "#Algorithm evaluation function using the cross validation split\n",
    "def evaluateAlgorithm(dataset, algorithm, k, *args):\n",
    "    folds = crossValidationSplit(dataset, k)\n",
    "    scores = list()\n",
    "    \n",
    "    for fold in folds:\n",
    "        trainSet = list(folds)\n",
    "        trainSet.remove(fold)\n",
    "        trainSet = sum(trainSet, [])\n",
    "        testSet = list()\n",
    "        \n",
    "        for row in fold:\n",
    "            rowCopy = list(row)\n",
    "            testSet.append(rowCopy)\n",
    "            rowCopy[-1] = None\n",
    "        predicted = algorithm(trainSet, testSet, *args)\n",
    "        actual = [row[-1] for row in fold]\n",
    "        accuracy = accuracyMetric(actual, predicted)\n",
    "        scores.append(accuracy)\n",
    "        "
   ]
  },
  {
   "cell_type": "code",
   "execution_count": 16,
   "metadata": {},
   "outputs": [],
   "source": [
    "#Implmenting the neural network\n",
    "#Initialize the network\n",
    "#Creates a new neural network that accepts three parameters, number of inputs, number of nuerons in the hidden layer\n",
    "#and number of outputs\n",
    "def initializeNetwork(nInputs, nHidden, nOutputs):\n",
    "    network  = list()\n",
    "    hiddenLayer = [{'weights':[random.random() for i in range(nInputs + 1)]} for i in range(nHidden)]\n",
    "    network.append(hiddenLayer)\n",
    "    outputLayer = [{'weights': [random.random() for i in range(nHidden + 1)]} for i in range(nOutputs)]\n",
    "    network.append(outputLayer)\n",
    "    \n",
    "    return network"
   ]
  },
  {
   "cell_type": "code",
   "execution_count": null,
   "metadata": {},
   "outputs": [],
   "source": [
    "#The activation function > Simply takes the weighted sum of the inputs at each node\n",
    "#The function assumes the bias is the last weight in the weight list (Remember + 1)\n",
    "def activation(weights, inputs):\n",
    "    "
   ]
  }
 ],
 "metadata": {
  "kernelspec": {
   "display_name": "Python 3",
   "language": "python",
   "name": "python3"
  },
  "language_info": {
   "codemirror_mode": {
    "name": "ipython",
    "version": 3
   },
   "file_extension": ".py",
   "mimetype": "text/x-python",
   "name": "python",
   "nbconvert_exporter": "python",
   "pygments_lexer": "ipython3",
   "version": "3.7.4"
  }
 },
 "nbformat": 4,
 "nbformat_minor": 2
}
