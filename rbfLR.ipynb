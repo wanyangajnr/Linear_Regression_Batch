{
 "cells": [
  {
   "cell_type": "code",
   "execution_count": 2,
   "metadata": {},
   "outputs": [],
   "source": [
    "import numpy as np\n",
    "import math"
   ]
  },
  {
   "cell_type": "code",
   "execution_count": 1,
   "metadata": {},
   "outputs": [],
   "source": [
    "def rbf(x,c,s):\n",
    "    return np.exp(-1/(2*s**2)*(x-c)**2)"
   ]
  },
  {
   "cell_type": "code",
   "execution_count": 3,
   "metadata": {},
   "outputs": [],
   "source": [
    "class kMeans():\n",
    "    def __init__(self, k = 3, tol = 0.001, maxIter = 100):\n",
    "        self.k = k\n",
    "        self.tol = tol\n",
    "        self.maxIter = maxIter\n",
    "        \n",
    "    def fit(self, data):\n",
    "        \n",
    "        self.centroids = {}\n",
    "        self.stds = {}\n",
    "        \n",
    "        for i in range(self.k):\n",
    "            self.centroids[i] = data[i]\n",
    "            self.stds[i] = math.sqrt(data[i])\n",
    "        \n",
    "        for i in range(self.maxIter):\n",
    "            self.classifications = {}\n",
    "            \n",
    "            for i in range(self.k):\n",
    "                self.classifications[i] = []\n",
    "                \n",
    "            \n",
    "            for feature in data:\n",
    "                distances = [np.linalg.norm(feature - self.centroids[centroid]) for centroid in self.centroids]\n",
    "                classification = distances.index(min(distances))\n",
    "                self.classifications[classification].append(feature)\n",
    "        \n",
    "            prevCentroids = dict(self.centroids)\n",
    "            prevStds = dict(self.stds)\n",
    "            \n",
    "            for classification in self.classifications:\n",
    "                self.centroids[classification] = np.average(self.classifications[classification], axis = 0)\n",
    "                self.stds[classification] = np.std(self.classifications[classification], axis = 0)\n",
    "                \n",
    "            optimized = True\n",
    "            \n",
    "            for c in self.centroids:\n",
    "                originalCentroid = prevCentroidS[c]\n",
    "                currentCentroid = self.Centroids[c]\n",
    "                originalStds = prevStds[c]\n",
    "                currentStds = self.stds[c]\n",
    "            \n",
    "            \n",
    "            \n",
    "                if np.sum((currentCentroid - originalCentroid)/ originalCentroid * 100) > self.tol:\n",
    "                    print(np.sum((currentCentroid - originalCentroid)/ originalCentroid * 100))\n",
    "                    optimized = True\n",
    "            \n",
    "            \n",
    "            if optimized:\n",
    "                break\n",
    "                \n",
    "        return self.centroids, self.stds\n",
    "                \n",
    "        \n",
    "        \n",
    "        "
   ]
  },
  {
   "cell_type": "code",
   "execution_count": null,
   "metadata": {},
   "outputs": [],
   "source": []
  }
 ],
 "metadata": {
  "kernelspec": {
   "display_name": "Python 3",
   "language": "python",
   "name": "python3"
  },
  "language_info": {
   "codemirror_mode": {
    "name": "ipython",
    "version": 3
   },
   "file_extension": ".py",
   "mimetype": "text/x-python",
   "name": "python",
   "nbconvert_exporter": "python",
   "pygments_lexer": "ipython3",
   "version": "3.7.4"
  }
 },
 "nbformat": 4,
 "nbformat_minor": 2
}
