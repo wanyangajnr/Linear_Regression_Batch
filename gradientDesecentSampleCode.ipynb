{
 "cells": [
  {
   "cell_type": "code",
   "execution_count": 1,
   "metadata": {},
   "outputs": [],
   "source": [
    "def hypothesis(theta, X, n):\n",
    "    h = np.ones(X.shape[0],1)\n",
    "    theta = theta.reshape(1, n+1)\n",
    "    for i in range(0, X.shape[0]):\n",
    "        h[i] = float(np.matmul(theta, X[i]))\n",
    "    h.reshape(X.shape[0])\n",
    "    return h"
   ]
  },
  {
   "cell_type": "code",
   "execution_count": 2,
   "metadata": {},
   "outputs": [],
   "source": [
    "#The batch gradient descent optimization\n",
    "def bgd(theta, alpha, num_iters,h, X,Y, n):\n",
    "    cost = np.ones(num_iters)\n",
    "    for i in range(0, num_iters):\n",
    "        theta[0] = theta[0] - (alpha/ X.shape[0] * sum(h-y))\n",
    "        for j in range(1, n+1):\n",
    "            theta[j] = theta[j] - (alpha/ X.shape[0] * sum(h-y)*X.transpose()[j])\n",
    "        h = hypothesis(theta, X, n)\n",
    "        cost[i] = (1/X.shape[0] * 0.5 * sum(np.square(h-y)))\n",
    "    theta = theta.reshape(1, n+1)\n",
    "    return theta, cost"
   ]
  },
  {
   "cell_type": "code",
   "execution_count": 3,
   "metadata": {},
   "outputs": [],
   "source": [
    "#The linear regression function\n",
    "def linear_regression(X,Y, alpha, num_iters):\n",
    "    n = X.shape[1]\n",
    "    one_column = np.ones((X.shape[0], 1))\n",
    "    X = np.concatenate((one_column, X), axis = 1)\n",
    "    theta = np.zeros(n+1)\n",
    "    h = hypothesis(theta, X, n)\n",
    "    theta, cost = bgd(theta, alpha, num_iters,h, X, Y, n)\n",
    "    \n",
    "    return theta, cost"
   ]
  },
  {
   "cell_type": "code",
   "execution_count": null,
   "metadata": {},
   "outputs": [],
   "source": []
  }
 ],
 "metadata": {
  "kernelspec": {
   "display_name": "Python 3",
   "language": "python",
   "name": "python3"
  },
  "language_info": {
   "codemirror_mode": {
    "name": "ipython",
    "version": 3
   },
   "file_extension": ".py",
   "mimetype": "text/x-python",
   "name": "python",
   "nbconvert_exporter": "python",
   "pygments_lexer": "ipython3",
   "version": "3.7.4"
  }
 },
 "nbformat": 4,
 "nbformat_minor": 2
}
