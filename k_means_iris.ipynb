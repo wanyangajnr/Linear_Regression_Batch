{
 "cells": [
  {
   "cell_type": "code",
   "execution_count": 1,
   "metadata": {},
   "outputs": [],
   "source": [
    "#Dependencies\n",
    "import numpy as np\n",
    "from csv import reader\n",
    "import matplotlib.pyplot as plt\n",
    "from matplotlib import style\n",
    "style.use('ggplot')"
   ]
  },
  {
   "cell_type": "code",
   "execution_count": 2,
   "metadata": {},
   "outputs": [],
   "source": [
    "#the csv upload function\n",
    "\n",
    "def csvFileUpload(filename):\n",
    "    dataset = []\n",
    "    with open(filename, 'r') as file:\n",
    "        csvReader = reader(file, delimiter = ',')\n",
    "        for row in csvReader:\n",
    "            if not row:\n",
    "                continue\n",
    "            dataset.append(row)\n",
    "        del(dataset[0])\n",
    "        for row in dataset:\n",
    "            del(row[4])\n",
    "    return dataset"
   ]
  },
  {
   "cell_type": "code",
   "execution_count": 3,
   "metadata": {},
   "outputs": [],
   "source": [
    "#Testing the csvUpload\n",
    "filename = '/Users/pw/Desktop/Machine Learning/mlwork/iris.csv'\n",
    "dataset = csvFileUpload(filename)"
   ]
  },
  {
   "cell_type": "code",
   "execution_count": 4,
   "metadata": {},
   "outputs": [
    {
     "data": {
      "text/plain": [
       "['5.1', '3.5', '1.4', '0.2']"
      ]
     },
     "execution_count": 4,
     "metadata": {},
     "output_type": "execute_result"
    }
   ],
   "source": [
    "dataset[0]"
   ]
  },
  {
   "cell_type": "code",
   "execution_count": 5,
   "metadata": {},
   "outputs": [],
   "source": [
    "#Changing the string values to float values\n",
    "def stringToFloat(dataset):\n",
    "    for column in range(len(dataset[0])):\n",
    "        for row in dataset:\n",
    "            row[column] = float(row[column].strip())\n",
    "    return dataset        "
   ]
  },
  {
   "cell_type": "code",
   "execution_count": 6,
   "metadata": {},
   "outputs": [],
   "source": [
    "data = stringToFloat(dataset)"
   ]
  },
  {
   "cell_type": "code",
   "execution_count": 7,
   "metadata": {},
   "outputs": [
    {
     "data": {
      "text/plain": [
       "[5.1, 3.5, 1.4, 0.2]"
      ]
     },
     "execution_count": 7,
     "metadata": {},
     "output_type": "execute_result"
    }
   ],
   "source": [
    "data[0]"
   ]
  },
  {
   "cell_type": "code",
   "execution_count": 11,
   "metadata": {},
   "outputs": [],
   "source": [
    "colors = 10*[\"b\",\"r\",\"g\",\"c\",\"m\",\"y\",\"k\"]"
   ]
  },
  {
   "cell_type": "code",
   "execution_count": 8,
   "metadata": {},
   "outputs": [],
   "source": [
    "#The K-means class\n",
    "class k_means():\n",
    "    def __init__(self, k = 3, tol = 0.01, maxIter = 100):\n",
    "        self.k = k\n",
    "        self.tol = tol\n",
    "        self.maxIter = 100\n",
    "        \n",
    "    def fit(self,data):\n",
    "            \n",
    "        self.centroids = {}\n",
    "            \n",
    "        for i in range(self.k):\n",
    "            self.centroids[i] = data[i]\n",
    "                \n",
    "        for i in range(self.maxIter):\n",
    "            self.classifications = {}\n",
    "                \n",
    "            for i in range(self.k):\n",
    "                self.classifications[i] = []\n",
    "            #Calculating the distances\n",
    "                \n",
    "            for feature in data:\n",
    "                distances = [np.linalg.norm(feature - self.centroids[centroid]) for centroid in self.centroids]\n",
    "                classification = distances.index(min(distances))\n",
    "                self.classifications[classification].append(feature)\n",
    "                    \n",
    "            prevCentroids = dict(self.centroids)    \n",
    "            #Calculate the new centroids based off the classifications      \n",
    "            \n",
    "            for classification in self.classifications:\n",
    "                self.centroids[classification] = np.average(self.classifications[classification], axis = 0)\n",
    "                \n",
    "                \n",
    "            optimized = True\n",
    "                \n",
    "            for c in self.centroids:\n",
    "                originalCentroid = prevCentroids[c]\n",
    "                currentCentroid = self.centroids[c]\n",
    "                    \n",
    "                if np.sum((currentCentroid - originalCentroid)/originalCentroid * 100) > self.tol:\n",
    "                    print(np.sum((currentCentroid - originalCentroid)/originalCentroid * 100))\n",
    "                    optimized = False\n",
    "                    \n",
    "                \n",
    "            if optimized:\n",
    "                break\n",
    "                    \n",
    "    def predict(self,data):\n",
    "            \n",
    "        distances = [np.linalg.norm(data - self.centroids[centroid]) for centroid in self.centroid]\n",
    "        classification = distances.index(min(distances))\n",
    "            \n",
    "        return classification\n",
    "                    \n"
   ]
  },
  {
   "cell_type": "code",
   "execution_count": 9,
   "metadata": {},
   "outputs": [
    {
     "data": {
      "text/plain": [
       "numpy.ndarray"
      ]
     },
     "execution_count": 9,
     "metadata": {},
     "output_type": "execute_result"
    }
   ],
   "source": [
    "dataArray = np.asarray(data)\n",
    "type(dataArray)"
   ]
  },
  {
   "cell_type": "code",
   "execution_count": 10,
   "metadata": {},
   "outputs": [],
   "source": [
    "X = dataArray[:,:2]"
   ]
  },
  {
   "cell_type": "code",
   "execution_count": 17,
   "metadata": {},
   "outputs": [
    {
     "name": "stdout",
     "output_type": "stream",
     "text": [
      "14.471167777455854\n",
      "2.2027210884353554\n",
      "1.6994207961505632\n",
      "0.3306595895334805\n",
      "9.633479146331165\n",
      "0.4620139048077303\n",
      "1.2105966006675006\n",
      "4.973687779113586\n",
      "0.859060365798457\n",
      "2.010321369927284\n",
      "0.6734561797532584\n",
      "0.6844940053965529\n",
      "1.139746476433797\n",
      "0.3433820100640357\n",
      "0.25252166269335685\n"
     ]
    },
    {
     "data": {
      "image/png": "[encoded data removed]",
      "text/plain": [
       "<Figure size 432x288 with 1 Axes>"
      ]
     },
     "metadata": {
      "needs_background": "light"
     },
     "output_type": "display_data"
    }
   ],
   "source": [
    "c = k_means()\n",
    "\n",
    "c.fit(X)\n",
    "\n",
    "for centroid in c.centroids:\n",
    "    plt.scatter(c.centroids[centroid][0], c.centroids[centroid][1], color = \"r\", marker = \"o\",\n",
    "               linewidths = 5, s = 150)\n",
    "    \n",
    "\n",
    "for classification in c.classifications:\n",
    "    color = colors[classification]\n",
    "    for feature in c.classifications[classification]:\n",
    "        plt.scatter(feature[0],feature[1], color = color, marker = \"x\", linewidths = 5, s = 150)\n",
    "\n",
    "plt.show()\n",
    "\n",
    "\n",
    "    "
   ]
  },
  {
   "cell_type": "code",
   "execution_count": null,
   "metadata": {},
   "outputs": [],
   "source": []
  }
 ],
 "metadata": {
  "kernelspec": {
   "display_name": "Python 3",
   "language": "python",
   "name": "python3"
  },
  "language_info": {
   "codemirror_mode": {
    "name": "ipython",
    "version": 3
   },
   "file_extension": ".py",
   "mimetype": "text/x-python",
   "name": "python",
   "nbconvert_exporter": "python",
   "pygments_lexer": "ipython3",
   "version": "3.7.4"
  }
 },
 "nbformat": 4,
 "nbformat_minor": 2
}
