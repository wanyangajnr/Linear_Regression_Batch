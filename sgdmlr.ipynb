{
 "cells": [
  {
   "cell_type": "code",
   "execution_count": 1,
   "metadata": {},
   "outputs": [],
   "source": [
    "#Importing dependencies\n",
    "import random\n",
    "import csv\n",
    "import math\n",
    "import os"
   ]
  },
  {
   "cell_type": "code",
   "execution_count": 2,
   "metadata": {},
   "outputs": [],
   "source": [
    "#The csv upload function\n",
    "def csv_upload(filename):\n",
    "    dataset = []\n",
    "    with open(filename, 'r') as file:\n",
    "        csv_reader = csv.reader(file)\n",
    "        \n",
    "        for row in csv_reader:\n",
    "            if not row:\n",
    "                continue\n",
    "            dataset.append(row)\n",
    "        del dataset[0]\n",
    "        for row in dataset:\n",
    "            del row[4]\n",
    "    return dataset"
   ]
  },
  {
   "cell_type": "code",
   "execution_count": 3,
   "metadata": {},
   "outputs": [],
   "source": [
    "#turn the data from string to float\n",
    "def string_to_float(dataset):\n",
    "    for row in dataset:\n",
    "        for c in range(len(row)):\n",
    "            row[c] = float(row[c].strip())\n",
    "    return dataset        "
   ]
  },
  {
   "cell_type": "code",
   "execution_count": 4,
   "metadata": {},
   "outputs": [],
   "source": [
    "random.seed(46)"
   ]
  },
  {
   "cell_type": "code",
   "execution_count": 5,
   "metadata": {},
   "outputs": [],
   "source": [
    "#Standardisation of the dataset\n",
    "#Getting the minimum and maximum column values\n",
    "def min_max_col_values(dataset):\n",
    "    minMax = []\n",
    "    for c in range(len(dataset[0])):\n",
    "        col_values = [row[c] for row in dataset]\n",
    "        min_col = min(col_values)\n",
    "        max_col = max(col_values)\n",
    "        \n",
    "        minMax.append([min_col, max_col])\n",
    "    \n",
    "    return minMax"
   ]
  },
  {
   "cell_type": "code",
   "execution_count": 6,
   "metadata": {},
   "outputs": [],
   "source": [
    "#Normalization function\n",
    "def minMax_normalization(dataset, minMax):\n",
    "    for row in dataset:\n",
    "        for c in range(len(dataset[0])):\n",
    "            row[c] = float(\"{0:.4f}\".format((row[c] - minMax[c][0]) / (minMax[c][1] - minMax[c][0])))\n",
    "    return dataset"
   ]
  },
  {
   "cell_type": "code",
   "execution_count": 7,
   "metadata": {},
   "outputs": [],
   "source": [
    "#splitting the data into k-folds for cross validation \n",
    "def cross_validation_split(dataset, n_folds):\n",
    "    dataSplit = []\n",
    "    datasetCopy = list(dataset)\n",
    "    foldSize = len(dataset)/ n_folds\n",
    "    \n",
    "    for i in range(n_folds):\n",
    "        fold = []\n",
    "        while len(fold) < foldSize:\n",
    "            index = random.randrange(len(datasetCopy))\n",
    "            fold.append(datasetCopy.pop(index))\n",
    "        dataSplit.append(fold)\n",
    "    return dataSplit\n",
    "    "
   ]
  },
  {
   "cell_type": "code",
   "execution_count": 8,
   "metadata": {},
   "outputs": [],
   "source": [
    "#The prediction function\n",
    "def predict(row, coef):\n",
    "    yhat = coef[0]\n",
    "    for i in range(len(row)-1):\n",
    "        yhat += coef[i+1]*row[i]\n",
    "    return yhat\n",
    "       "
   ]
  },
  {
   "cell_type": "code",
   "execution_count": 9,
   "metadata": {},
   "outputs": [],
   "source": [
    "#Calculate the RMSE\n",
    "def rmse(actual, predicted):\n",
    "    sum_error = 0\n",
    "    for i in range(len(actual)):\n",
    "        error = (actual[i] - predicted[i])**2\n",
    "        sum_error += error\n",
    "        \n",
    "    rmse = math.sqrt(sum_error/len(actual))\n",
    "    return rmse"
   ]
  },
  {
   "cell_type": "code",
   "execution_count": 10,
   "metadata": {},
   "outputs": [],
   "source": [
    "# The sgd algorithm\n",
    "def sgd(train, n_epoch, l_rate):\n",
    "    coef = [0.0 for i in range(len(train[0]))]\n",
    "    for epoch in range(n_epoch):\n",
    "        for row in train:\n",
    "            yhat = predict(row,coef)\n",
    "            error = yhat - row[-1]\n",
    "            coef[0] = coef[0] - l_rate * error\n",
    "            for i in range(len(row)-1):\n",
    "                coef[i+1] = coef[i+1] - l_rate * error * row[i]\n",
    "                \n",
    "        return coef"
   ]
  },
  {
   "cell_type": "code",
   "execution_count": 11,
   "metadata": {},
   "outputs": [],
   "source": [
    "# Linear Regression Algorithm using the sgd\n",
    "def linear_regression(train,test,l_rate, n_epoch):\n",
    "    prediction = list()\n",
    "    coef = sgd(train, n_epoch, l_rate)\n",
    "    \n",
    "    for row in test:\n",
    "        yhat = predict(row,coef)\n",
    "        prediction.append(yhat)\n",
    "    \n",
    "    return prediction"
   ]
  },
  {
   "cell_type": "code",
   "execution_count": 12,
   "metadata": {},
   "outputs": [],
   "source": [
    "#Evaluating the SGD algorithm using the cross-validation resampling method\n",
    "def evaluate_sgd(train_set,n_folds,l_rate,n_epoch):\n",
    "    folds = cross_validation_split(train_set, n_folds)\n",
    "    scores = []\n",
    "    for fold in folds:\n",
    "        train_set = list(folds)\n",
    "        train_set.remove(fold)\n",
    "        train_set = sum(train_set, [])\n",
    "        test_set = []\n",
    "        for row in fold:\n",
    "            row_copy = list(row)\n",
    "            test_set.append(row_copy)\n",
    "        predicted = linear_regression(train_set,test_set,l_rate,n_epoch)\n",
    "        actual = [row[-1] for row in fold]\n",
    "        sum_error = 0\n",
    "        for i in range(len(actual)):\n",
    "            error = (actual[i] - predicted[i])**2\n",
    "            sum_error += error\n",
    "            \n",
    "        rmse = math.sqrt(sum_error/len(actual))\n",
    "        scores.append(rmse)\n",
    "    return scores\n",
    "        "
   ]
  },
  {
   "cell_type": "code",
   "execution_count": 13,
   "metadata": {},
   "outputs": [],
   "source": [
    "#Linear Regression on the iris_dataset\n",
    "filename = \"/Users/pw/Desktop/Machine Learning/mlwork/iris.csv\"\n",
    "dataset = csv_upload(filename)"
   ]
  },
  {
   "cell_type": "code",
   "execution_count": 14,
   "metadata": {},
   "outputs": [
    {
     "data": {
      "text/plain": [
       "['5.1', '3.5', '1.4', '0.2']"
      ]
     },
     "execution_count": 14,
     "metadata": {},
     "output_type": "execute_result"
    }
   ],
   "source": [
    "dataset[0]"
   ]
  },
  {
   "cell_type": "code",
   "execution_count": 15,
   "metadata": {},
   "outputs": [],
   "source": [
    "data_float = string_to_float(dataset)"
   ]
  },
  {
   "cell_type": "code",
   "execution_count": 16,
   "metadata": {},
   "outputs": [
    {
     "data": {
      "text/plain": [
       "[5.1, 3.5, 1.4, 0.2]"
      ]
     },
     "execution_count": 16,
     "metadata": {},
     "output_type": "execute_result"
    }
   ],
   "source": [
    "data_float[0]"
   ]
  },
  {
   "cell_type": "code",
   "execution_count": 17,
   "metadata": {},
   "outputs": [
    {
     "data": {
      "text/plain": [
       "[[4.3, 7.9], [2.0, 4.4], [1.0, 6.9], [0.1, 2.5]]"
      ]
     },
     "execution_count": 17,
     "metadata": {},
     "output_type": "execute_result"
    }
   ],
   "source": [
    "#Normalization ''' getting the minimax list (Min and max of all the columns)'''\n",
    "minMax = min_max_col_values(data_float)\n",
    "minMax"
   ]
  },
  {
   "cell_type": "code",
   "execution_count": 18,
   "metadata": {},
   "outputs": [],
   "source": [
    "#Standardization of the iris dataset\n",
    "data_normalized = minMax_normalization(data_float, minMax)"
   ]
  },
  {
   "cell_type": "code",
   "execution_count": 19,
   "metadata": {},
   "outputs": [
    {
     "data": {
      "text/plain": [
       "[0.2222, 0.625, 0.0678, 0.0417]"
      ]
     },
     "execution_count": 19,
     "metadata": {},
     "output_type": "execute_result"
    }
   ],
   "source": [
    "data_normalized[0]"
   ]
  },
  {
   "cell_type": "code",
   "execution_count": 20,
   "metadata": {},
   "outputs": [
    {
     "name": "stdout",
     "output_type": "stream",
     "text": [
      "Scores: [0.24974462488342228, 0.25566255787632636, 0.26381423125878467]\n",
      "Mean RMSE: 0.26 \n"
     ]
    }
   ],
   "source": [
    "# Evaluating the algorithm\n",
    "n_folds = 3\n",
    "l_rate = 0.01\n",
    "n_epoch = 50\n",
    "scores = evaluate_sgd(data_normalized,n_folds,l_rate,n_epoch)\n",
    "print('Scores: %s' % scores)\n",
    "print('Mean RMSE: %.2f ' % (sum(scores)/float(len(scores))))"
   ]
  }
 ],
 "metadata": {
  "kernelspec": {
   "display_name": "Python 3",
   "language": "python",
   "name": "python3"
  },
  "language_info": {
   "codemirror_mode": {
    "name": "ipython",
    "version": 3
   },
   "file_extension": ".py",
   "mimetype": "text/x-python",
   "name": "python",
   "nbconvert_exporter": "python",
   "pygments_lexer": "ipython3",
   "version": "3.7.4"
  }
 },
 "nbformat": 4,
 "nbformat_minor": 2
}
