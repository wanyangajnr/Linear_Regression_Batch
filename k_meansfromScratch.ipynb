{
 "cells": [
  {
   "cell_type": "code",
   "execution_count": 1,
   "metadata": {},
   "outputs": [],
   "source": [
    "#Calling the dependencies\n",
    "import matplotlib.pyplot as plt\n",
    "from matplotlib import style\n",
    "import numpy as np\n",
    "style.use('ggplot')"
   ]
  },
  {
   "cell_type": "code",
   "execution_count": 2,
   "metadata": {},
   "outputs": [],
   "source": [
    "X = np.array([[1,2], \n",
    "            [1.5, 1.8],\n",
    "            [5,8],\n",
    "            [8,8],\n",
    "            [1, 0.6],\n",
    "            [9,11]])"
   ]
  },
  {
   "cell_type": "code",
   "execution_count": 3,
   "metadata": {},
   "outputs": [],
   "source": [
    "colors = [\"g\",\"r\",\"c\",\"b\",\"k\"]"
   ]
  },
  {
   "cell_type": "code",
   "execution_count": 4,
   "metadata": {},
   "outputs": [],
   "source": [
    "#plt.scatter(X[:,0],X[:,1], s = 100)\n",
    "#plt.show()"
   ]
  },
  {
   "cell_type": "code",
   "execution_count": 5,
   "metadata": {},
   "outputs": [],
   "source": [
    "#Creating the K_means class\n",
    "class K_means:\n",
    "    def __init__(self, k = 2, tol = 0.01, max_iter = 300):\n",
    "        self.k = k\n",
    "        self.tol = tol\n",
    "        self.max_iter = max_iter\n",
    "    \n",
    "    \"\"\"The init method initiates the k value which is just k, the tolerance value <allow us to conclude optimization if \n",
    "    the centroid are no longer moving more than the tolerance value. The max_iter limits the number of iterations\"\"\"\n",
    "    \n",
    "    #The fit method\n",
    "    \n",
    "    def fit(self,data):\n",
    "        \n",
    "        self.centroids = {}\n",
    "        \n",
    "        for i in range(self.k):\n",
    "            self.centroids[i] = data[i]\n",
    "            \n",
    "        \"\"\"the fit methods initiates an empty dictionary which will house the centroids. Then a for loop assigns the first \n",
    "        centroids as the first k data samples. Shuffle the data to ensure that the assigned centroids are truly random\"\"\"\n",
    "    \n",
    "        for i in range(self.max_iter):\n",
    "            self.classifications = {}\n",
    "            \n",
    "            for i in range(self.k):\n",
    "                self.classifications[i] = []\n",
    "                \"\"\"here we iterate through the max_iter value while initializing the classifications as a dictionary\n",
    "                , we create empty k classifications  \"\"\"\n",
    "            \n",
    "            for featureset in data:\n",
    "                distances = [np.linalg.norm(featureset - self.centroids[centroid]) for centroid in self.centroids]\n",
    "                classification = distances.index(min(distances))\n",
    "                self.classifications[classification].append(featureset)\n",
    "                \"\"\"we iterate throught the features, calculate distances of the features to the current centroids\n",
    "                and classify them\"\"\"\n",
    "            \n",
    "            prev_centroids = dict(self.centroids)\n",
    "        \n",
    "            for classification in self.classifications:\n",
    "                self.centroids[classification] = np.average(self.classifications[classification], axis = 0)\n",
    "            \n",
    "                \"\"\"We now have the new centroids and knowledge of the previous centroids, we now add \n",
    "                the optimization function to know if we are optimized yet\"\"\"\n",
    "            \n",
    "            optimized = True\n",
    "            \n",
    "            for c in self.centroids:\n",
    "                original_centroid = prev_centroids[c]\n",
    "                current_centroid = self.centroids[c]\n",
    "                \n",
    "                if np.sum((current_centroid - original_centroid)/ original_centroid*100) > self.tol:\n",
    "                    print(np.sum((current_centroid - original_centroid)/ original_centroid*100))\n",
    "                    optimized = False\n",
    "                    \n",
    "                    \n",
    "            if optimized:\n",
    "                break\n",
    "    \n",
    "    def predict(self,data):\n",
    "        distances =[np.linalg.norm(data-self.centroids[centroid]) for centroid in self.centroids]\n",
    "        classification = distances.index(min(distances))\n",
    "        return classification\n",
    "                "
   ]
  },
  {
   "cell_type": "code",
   "execution_count": 6,
   "metadata": {},
   "outputs": [
    {
     "name": "stdout",
     "output_type": "stream",
     "text": [
      "453.3333333333334\n",
      "102.72108843537411\n"
     ]
    },
    {
     "data": {
      "image/png": "[encoded data removed]",
      "text/plain": [
       "<Figure size 432x288 with 1 Axes>"
      ]
     },
     "metadata": {
      "needs_background": "light"
     },
     "output_type": "display_data"
    }
   ],
   "source": [
    "clf = K_means()\n",
    "clf.fit(X)\n",
    "\n",
    "for centroid in clf.centroids:\n",
    "    plt.scatter(clf.centroids[centroid][0], clf.centroids[centroid][1],\n",
    "               marker = \"o\", color = \"k\", s =150, linewidths = 5)\n",
    "    \n",
    "for classification in clf.classifications:\n",
    "    color = colors[classification]\n",
    "    \n",
    "    for featureset in clf.classifications[classification]:\n",
    "        plt.scatter(featureset[0], featureset[1], marker = \"x\", color = color, s = 150, linewidths = 5)\n",
    "\n",
    "\n",
    "#predicting using the algorithm\n",
    "tests = np.array([[1,3],\n",
    "               [1.4,4],\n",
    "               [0,3],\n",
    "               [3.1,6],\n",
    "               [5.1,7],\n",
    "               [1,2]])\n",
    "\n",
    "for test in tests:\n",
    "    classification = clf.predict(test)\n",
    "    plt.scatter(test[0],test[1],marker = \"*\", color = colors[classification], s = 150, linewidths = 5)\n",
    "    \n",
    "plt.show()"
   ]
  },
  {
   "cell_type": "code",
   "execution_count": 8,
   "metadata": {},
   "outputs": [
    {
     "name": "stdout",
     "output_type": "stream",
     "text": [
      "{0: array([1.16666667, 1.46666667]), 1: array([7.33333333, 9.        ])}\n"
     ]
    }
   ],
   "source": [
    "print(clf.centroids)"
   ]
  },
  {
   "cell_type": "code",
   "execution_count": null,
   "metadata": {},
   "outputs": [],
   "source": []
  }
 ],
 "metadata": {
  "kernelspec": {
   "display_name": "Python 3",
   "language": "python",
   "name": "python3"
  },
  "language_info": {
   "codemirror_mode": {
    "name": "ipython",
    "version": 3
   },
   "file_extension": ".py",
   "mimetype": "text/x-python",
   "name": "python",
   "nbconvert_exporter": "python",
   "pygments_lexer": "ipython3",
   "version": "3.7.4"
  }
 },
 "nbformat": 4,
 "nbformat_minor": 2
}
