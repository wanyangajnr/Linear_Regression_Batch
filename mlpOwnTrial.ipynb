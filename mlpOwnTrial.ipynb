{
 "cells": [
  {
   "cell_type": "code",
   "execution_count": 14,
   "metadata": {},
   "outputs": [
    {
     "name": "stdout",
     "output_type": "stream",
     "text": [
      "Random Weights: \n",
      "[[-0.25091976]\n",
      " [ 0.90142861]\n",
      " [ 0.46398788]\n",
      " [ 0.19731697]]\n",
      "Weights after training\n",
      "[[-1.54083053]\n",
      " [-2.31374637]\n",
      " [ 9.09382227]\n",
      " [-0.64938031]]\n",
      "New situation [1,0,0,1]?\n",
      "[0.10063301]\n"
     ]
    }
   ],
   "source": [
    "from numpy import dot, random, array, exp\n",
    "\n",
    "class ownNeuralTrial():\n",
    "    \n",
    "    def __init__(self):\n",
    "        \n",
    "        #Create a random generator\n",
    "        \n",
    "        random.seed(42)\n",
    "        \n",
    "        #Initialize the weights\n",
    "        \n",
    "        self.weights = 2* random.random((4,1))-1\n",
    "        \n",
    "    #The sigmoid function\n",
    "        \n",
    "    def sigmoid(self, x):\n",
    "        return 1/(1+exp(-x))\n",
    "    \n",
    "    #The sigmoide derivative function\n",
    "    \n",
    "    def sigmoidDerivative(self, x):\n",
    "        return x*(1-x)\n",
    "    \n",
    "    #Pass the train inputs through the network (the single neuron)\n",
    "    \n",
    "    def train(self, train_in, train_out, maxIter):\n",
    "        \n",
    "        for iterations in range(maxIter):\n",
    "            \n",
    "            output = self.sigmoid(dot(train_in, self.weights))\n",
    "            \n",
    "            error = train_out - output\n",
    "            \n",
    "            adjustment = dot(train_in.T, error * self.sigmoidDerivative(output))\n",
    "            \n",
    "            self.weights += adjustment\n",
    "            \n",
    "    \n",
    "    def think(self, inputs):\n",
    "        return self.sigmoid(dot(inputs, self.weights))\n",
    "\n",
    "    \n",
    "    \n",
    "if __name__ == '__main__':\n",
    "    \n",
    "    oNt = ownNeuralTrial()\n",
    "    \n",
    "    print('Random Weights: ')\n",
    "    print(oNt.weights)\n",
    "    \n",
    "    \n",
    "    train_in = array([[1,0,1,1],[0,0,1,1],[1,1,0,1],[1,1,1,1],[1,0,1,1]])\n",
    "    train_out = array([[1,1,0,1,1]]).T\n",
    "    \n",
    "    oNt.train(train_in, train_out, 10000)\n",
    "    \n",
    "    print('Weights after training')\n",
    "    print(oNt.weights)\n",
    "    \n",
    "    print('New situation [1,0,0,1]?')\n",
    "    print(oNt.think(array([1,0,0,1])))       \n",
    "        "
   ]
  },
  {
   "cell_type": "code",
   "execution_count": null,
   "metadata": {},
   "outputs": [],
   "source": []
  }
 ],
 "metadata": {
  "kernelspec": {
   "display_name": "Python 3",
   "language": "python",
   "name": "python3"
  },
  "language_info": {
   "codemirror_mode": {
    "name": "ipython",
    "version": 3
   },
   "file_extension": ".py",
   "mimetype": "text/x-python",
   "name": "python",
   "nbconvert_exporter": "python",
   "pygments_lexer": "ipython3",
   "version": "3.7.4"
  }
 },
 "nbformat": 4,
 "nbformat_minor": 2
}
