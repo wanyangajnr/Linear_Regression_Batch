{
 "cells": [
  {
   "cell_type": "code",
   "execution_count": 1,
   "metadata": {},
   "outputs": [],
   "source": [
    "#Loading the dependencies\n",
    "import os\n",
    "from csv import reader\n",
    "import random\n",
    "import numpy as np\n",
    "import math\n",
    "import matplotlib.pyplot as plt"
   ]
  },
  {
   "cell_type": "code",
   "execution_count": 2,
   "metadata": {},
   "outputs": [
    {
     "data": {
      "text/plain": [
       "'/Users/pw/Desktop/Machine Learning/mlwork'"
      ]
     },
     "execution_count": 2,
     "metadata": {},
     "output_type": "execute_result"
    }
   ],
   "source": [
    "#Check the working directory\n",
    "os.getcwd()\n",
    "os.chdir(\"/Users/pw/Desktop/Machine Learning/mlwork\")\n",
    "os.getcwd()"
   ]
  },
  {
   "cell_type": "code",
   "execution_count": 3,
   "metadata": {},
   "outputs": [],
   "source": [
    "#The csv function for uploading the file\n",
    "def csv_upload(filename):\n",
    "    dataset = []\n",
    "    with open(filename, 'r') as csv_file:\n",
    "        csv_reader = reader(csv_file, delimiter =',')\n",
    "        for row in csv_reader:\n",
    "            if not row:\n",
    "                continue\n",
    "            dataset.append(row)\n",
    "        del dataset[0]\n",
    "    return dataset"
   ]
  },
  {
   "cell_type": "code",
   "execution_count": 4,
   "metadata": {},
   "outputs": [],
   "source": [
    "#Uploading the csv file\n",
    "iris = csv_upload('iris.csv')"
   ]
  },
  {
   "cell_type": "code",
   "execution_count": 5,
   "metadata": {},
   "outputs": [
    {
     "data": {
      "text/plain": [
       "['4.9', '3', '1.4', '0.2', 'setosa']"
      ]
     },
     "execution_count": 5,
     "metadata": {},
     "output_type": "execute_result"
    }
   ],
   "source": [
    "iris[1]"
   ]
  },
  {
   "cell_type": "code",
   "execution_count": 6,
   "metadata": {},
   "outputs": [
    {
     "data": {
      "text/plain": [
       "['4.9', '3', '1.4', '0.2', 'setosa']"
      ]
     },
     "execution_count": 6,
     "metadata": {},
     "output_type": "execute_result"
    }
   ],
   "source": [
    "data_file = iris\n",
    "data_file[1]"
   ]
  },
  {
   "cell_type": "code",
   "execution_count": 7,
   "metadata": {},
   "outputs": [
    {
     "data": {
      "text/plain": [
       "['4.9', '3', '1.4', '0.2']"
      ]
     },
     "execution_count": 7,
     "metadata": {},
     "output_type": "execute_result"
    }
   ],
   "source": [
    "#Delete the fourth column\n",
    "for row in data_file:\n",
    "    del row[4]\n",
    "data_file[1]"
   ]
  },
  {
   "cell_type": "code",
   "execution_count": 8,
   "metadata": {},
   "outputs": [],
   "source": [
    "#Change all values from string to float\n",
    "def string_to_float(dataset, column):\n",
    "    for row in dataset:\n",
    "        row[column] = float(row[column].strip())"
   ]
  },
  {
   "cell_type": "code",
   "execution_count": 9,
   "metadata": {},
   "outputs": [
    {
     "data": {
      "text/plain": [
       "[5.1, 3.5, 1.4, 0.2]"
      ]
     },
     "execution_count": 9,
     "metadata": {},
     "output_type": "execute_result"
    }
   ],
   "source": [
    "for c in range(len(data_file[0])):\n",
    "    string_to_float(data_file, c)\n",
    "data_file[0]"
   ]
  },
  {
   "cell_type": "code",
   "execution_count": 10,
   "metadata": {},
   "outputs": [],
   "source": [
    "#shuffling the dataset\n",
    "random.shuffle(data_file)"
   ]
  },
  {
   "cell_type": "code",
   "execution_count": 11,
   "metadata": {},
   "outputs": [
    {
     "data": {
      "text/plain": [
       "[5.4, 3.4, 1.7, 0.2]"
      ]
     },
     "execution_count": 11,
     "metadata": {},
     "output_type": "execute_result"
    }
   ],
   "source": [
    "data_file[0]"
   ]
  },
  {
   "cell_type": "code",
   "execution_count": 12,
   "metadata": {},
   "outputs": [],
   "source": [
    "#Scaling ~ The minimax function\n",
    "def mini_max(dataset):\n",
    "    minimax = []\n",
    "    for i in range(len(dataset[0])):\n",
    "        col_values = [row[i] for row in dataset]\n",
    "        min_value = min(col_values)\n",
    "        max_value = max(col_values)\n",
    "        minimax.append([min_value, max_value])\n",
    "    return minimax"
   ]
  },
  {
   "cell_type": "code",
   "execution_count": 13,
   "metadata": {},
   "outputs": [
    {
     "data": {
      "text/plain": [
       "[[4.3, 7.9], [2.0, 4.4], [1.0, 6.9], [0.1, 2.5]]"
      ]
     },
     "execution_count": 13,
     "metadata": {},
     "output_type": "execute_result"
    }
   ],
   "source": [
    "mini_max = mini_max(data_file)\n",
    "mini_max"
   ]
  },
  {
   "cell_type": "code",
   "execution_count": 14,
   "metadata": {},
   "outputs": [],
   "source": [
    "#Normalizing the data using the minimax normalization\n",
    "def minmax_normalization(dataset, minimax):\n",
    "    for row in dataset:\n",
    "        for i in range(len(dataset[0])):\n",
    "            row[i] = (row[i] - minimax[i][0]) / (minimax[i][1] - minimax[i][0])\n",
    "    return dataset"
   ]
  },
  {
   "cell_type": "code",
   "execution_count": 15,
   "metadata": {},
   "outputs": [
    {
     "data": {
      "text/plain": [
       "[0.30555555555555564,\n",
       " 0.5833333333333333,\n",
       " 0.11864406779661016,\n",
       " 0.04166666666666667]"
      ]
     },
     "execution_count": 15,
     "metadata": {},
     "output_type": "execute_result"
    }
   ],
   "source": [
    "norm_file = minmax_normalization(data_file,mini_max)\n",
    "norm_file[0]"
   ]
  },
  {
   "cell_type": "code",
   "execution_count": 16,
   "metadata": {},
   "outputs": [
    {
     "data": {
      "text/plain": [
       "array([[0.30555556, 0.58333333, 0.11864407, 0.04166667],\n",
       "       [0.41666667, 0.33333333, 0.69491525, 0.95833333],\n",
       "       [0.66666667, 0.20833333, 0.81355932, 0.70833333],\n",
       "       [0.13888889, 0.41666667, 0.06779661, 0.08333333],\n",
       "       [0.33333333, 0.625     , 0.05084746, 0.04166667]])"
      ]
     },
     "execution_count": 16,
     "metadata": {},
     "output_type": "execute_result"
    }
   ],
   "source": [
    "#Creating the test and train data sets\n",
    "file_array =np.asarray(norm_file)\n",
    "file_array[0:5,]"
   ]
  },
  {
   "cell_type": "code",
   "execution_count": 17,
   "metadata": {},
   "outputs": [
    {
     "data": {
      "text/plain": [
       "array([0.79661017, 0.54237288, 0.57627119, 0.05084746, 0.76271186])"
      ]
     },
     "execution_count": 17,
     "metadata": {},
     "output_type": "execute_result"
    }
   ],
   "source": [
    "train_Y = file_array[0:120, 2]\n",
    "test_Y = file_array[121:,2]\n",
    "test_Y[0:5]"
   ]
  },
  {
   "cell_type": "code",
   "execution_count": 18,
   "metadata": {},
   "outputs": [],
   "source": [
    "train_X = file_array[0:120, 0]\n",
    "test_X = file_array[121:,0]"
   ]
  },
  {
   "cell_type": "code",
   "execution_count": 19,
   "metadata": {},
   "outputs": [],
   "source": [
    "#The batch gradient descent algorithm\n",
    "def gradient_descent(x, y, alpha, max_error = 0.001, max_iterations = 10000):\n",
    "    coef = []\n",
    "    converged = False\n",
    "    iter = 0\n",
    "    m = x.shape[0]\n",
    "    \n",
    "    #Initializing the firts theta's\n",
    "    theta0 = 0.1\n",
    "    theta1 = 0.1\n",
    "    \n",
    "    #Initial error\n",
    "    \n",
    "    Jtheta = sum([(theta0 + theta1*x[i]-y[i])**2 for i in range(m)])\n",
    "    \n",
    "    while not converged:\n",
    "        #calculating the updates\n",
    "        grad0 = 1/m * sum([(theta0 + theta1 * x[i] - y[i])for i in range(m)])\n",
    "        grad1 = 1/m * sum([(theta0 + theta1 * x[i] - y[i]) * x[i] for i in range(m)])\n",
    "        \n",
    "        #updating the coeffients\n",
    "        \n",
    "        theta0 = theta0 - alpha*grad0\n",
    "        theta1 = theta1 - alpha*grad1\n",
    "        \n",
    "        e = sum([(theta0 + theta1*x[i] - y[i])**2 for i in range(m)])\n",
    "        \n",
    "        #Exiting loop / Termination condition\n",
    "        \n",
    "        if abs(Jtheta-e) <= max_error:\n",
    "            print(\"Converged, number of iteration\", iter)\n",
    "            converged = True\n",
    "        Jtheta = e\n",
    "        iter += 1\n",
    "        \n",
    "        if iter == max_iterations:\n",
    "            print('Maximum number of iterations reached')\n",
    "            converged = true\n",
    "    coef.append(theta0)\n",
    "    coef.append(theta1)\n",
    "    return coef\n",
    "    "
   ]
  },
  {
   "cell_type": "code",
   "execution_count": 20,
   "metadata": {},
   "outputs": [],
   "source": [
    "#the prediction function\n",
    "def predict(x, coef):\n",
    "    predicted = list()\n",
    "    m = x.shape[0]\n",
    "    for i in range(m):\n",
    "        predict = coef[0] + coef[1]*x[i]\n",
    "        predicted.append(predict)\n",
    "    return predicted"
   ]
  },
  {
   "cell_type": "code",
   "execution_count": 21,
   "metadata": {},
   "outputs": [],
   "source": [
    "def error_calc(actual, predicted):\n",
    "    sum_error = 0\n",
    "    for i in range(len(actual)):\n",
    "        sum_error += (predicted[i]-actual[i])**2\n",
    "    mean_error = math.sqrt(sum_error/len(actual))\n",
    "    return mean_error "
   ]
  },
  {
   "cell_type": "code",
   "execution_count": 22,
   "metadata": {},
   "outputs": [
    {
     "name": "stdout",
     "output_type": "stream",
     "text": [
      "Converged, number of iteration 4216\n",
      "Coefficients:  [0.05722241962780848, 0.9919888793602278]\n",
      "Mean Squared Error:  0.1830144757506326\n"
     ]
    }
   ],
   "source": [
    "coef = gradient_descent(train_X, train_Y,0.01, max_error = 0.0001, max_iterations = 10000)\n",
    "predicted = predict(test_X, coef)\n",
    "mean_error = error_calc(test_Y, predicted)\n",
    "print('Coefficients: ', coef)\n",
    "print('Mean Squared Error: ', mean_error)"
   ]
  },
  {
   "cell_type": "code",
   "execution_count": 23,
   "metadata": {},
   "outputs": [
    {
     "data": {
      "image/png": "[encoded data removed]",
      "text/plain": [
       "<Figure size 432x288 with 1 Axes>"
      ]
     },
     "metadata": {
      "needs_background": "light"
     },
     "output_type": "display_data"
    }
   ],
   "source": [
    "#Line graph comparing the predicted against the actual\n",
    "plt.plot(test_Y, color = 'g')\n",
    "plt.plot(predicted, color = 'y')\n",
    "plt.show()"
   ]
  },
  {
   "cell_type": "code",
   "execution_count": null,
   "metadata": {},
   "outputs": [],
   "source": []
  }
 ],
 "metadata": {
  "kernelspec": {
   "display_name": "Python 3",
   "language": "python",
   "name": "python3"
  },
  "language_info": {
   "codemirror_mode": {
    "name": "ipython",
    "version": 3
   },
   "file_extension": ".py",
   "mimetype": "text/x-python",
   "name": "python",
   "nbconvert_exporter": "python",
   "pygments_lexer": "ipython3",
   "version": "3.7.4"
  }
 },
 "nbformat": 4,
 "nbformat_minor": 2
}
